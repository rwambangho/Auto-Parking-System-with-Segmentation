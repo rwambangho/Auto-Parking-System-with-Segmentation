{
 "cells": [
  {
   "cell_type": "markdown",
   "metadata": {
    "id": "Mbqp_QC67SS4"
   },
   "source": [
    "### 0. 데이터셋 다운로드\n",
    "\n",
    "주차공간 탐지 데이터셋 다운로드"
   ]
  },
  {
   "cell_type": "code",
   "execution_count": 1,
   "metadata": {},
   "outputs": [
    {
     "data": {
      "text/plain": [
       "'/Users/foto2/jupyter_notebook/likelion_CV'"
      ]
     },
     "execution_count": 1,
     "metadata": {},
     "output_type": "execute_result"
    }
   ],
   "source": [
    "pwd"
   ]
  },
  {
   "cell_type": "code",
   "execution_count": 2,
   "metadata": {
    "id": "J7Oifp7f4FZv"
   },
   "outputs": [],
   "source": [
    "import os\n",
    "import shutil\n",
    "import random\n",
    "import json\n",
    "\n",
    "# 경로 설정\n",
    "root_path = \"/Users/foto2/jupyter_notebook/likelion_CV/seg_dataset/test\"\n",
    "\n",
    "image_path = os.path.join(root_path, \"images\")\n",
    "label_path = os.path.join(root_path, \"labels\")\n",
    "\n",
    "#subfolders = [folder for folder in os.listdir(root_path) if os.path.isdir(os.path.join(root_path, folder))]"
   ]
  },
  {
   "cell_type": "code",
   "execution_count": 3,
   "metadata": {},
   "outputs": [
    {
     "name": "stdout",
     "output_type": "stream",
     "text": [
      "/Users/foto2/jupyter_notebook/likelion_CV/parkingspace_seg/data/training/label_data/indoor/mspklot\n"
     ]
    }
   ],
   "source": [
    "print(root_path)"
   ]
  },
  {
   "cell_type": "markdown",
   "metadata": {},
   "source": [
    "### test 이미지 세그멘테이션 투영\n",
    "-> epochs5로 돌린 후에 라벨값이 이상한 것 같아서 확인해보기"
   ]
  },
  {
   "cell_type": "code",
   "execution_count": null,
   "metadata": {},
   "outputs": [],
   "source": []
  }
 ],
 "metadata": {
  "colab": {
   "provenance": []
  },
  "kernelspec": {
   "display_name": "Python 3 (ipykernel)",
   "language": "python",
   "name": "python3"
  },
  "language_info": {
   "codemirror_mode": {
    "name": "ipython",
    "version": 3
   },
   "file_extension": ".py",
   "mimetype": "text/x-python",
   "name": "python",
   "nbconvert_exporter": "python",
   "pygments_lexer": "ipython3",
   "version": "3.11.5"
  }
 },
 "nbformat": 4,
 "nbformat_minor": 1
}
